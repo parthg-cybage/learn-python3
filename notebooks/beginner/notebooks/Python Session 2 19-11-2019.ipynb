{
 "cells": [
  {
   "cell_type": "code",
   "execution_count": 7,
   "metadata": {},
   "outputs": [],
   "source": [
    "def hello(*a):\n",
    "    print(\"Hello....\", a)"
   ]
  },
  {
   "cell_type": "code",
   "execution_count": 10,
   "metadata": {},
   "outputs": [
    {
     "name": "stdout",
     "output_type": "stream",
     "text": [
      "Hello.... ('a',)\n",
      "Hello.... ()\n",
      "Hello.... (1, 2)\n"
     ]
    }
   ],
   "source": [
    "hello(\"a\")\n",
    "hello()\n",
    "hello(1, 2)"
   ]
  },
  {
   "cell_type": "code",
   "execution_count": 24,
   "metadata": {},
   "outputs": [],
   "source": [
    "def hello_fun(**kwargs):\n",
    "    try:\n",
    "        print(kwargs['c'])\n",
    "        for k, v in kwargs.items():\n",
    "            print(k, v)\n",
    "        print(kwargs)\n",
    "    except KeyError as E:\n",
    "        print(\"an error\", E)"
   ]
  },
  {
   "cell_type": "code",
   "execution_count": 25,
   "metadata": {},
   "outputs": [
    {
     "name": "stdout",
     "output_type": "stream",
     "text": [
      "an error 'c'\n"
     ]
    }
   ],
   "source": [
    "\n",
    "hello_fun(a=1, b=2)"
   ]
  },
  {
   "cell_type": "code",
   "execution_count": 27,
   "metadata": {},
   "outputs": [
    {
     "name": "stdout",
     "output_type": "stream",
     "text": [
      "[{'word': 'jumped', 'count': 6}, {'word': 'over', 'count': 4}, {'word': 'lazy', 'count': 4}]\n"
     ]
    }
   ],
   "source": [
    "a = \"The quick brown box jumped over the lazy dog\"\n",
    "words = a.split()\n",
    "result = []\n",
    "for word in words:\n",
    "    if len(word) % 2 == 0:\n",
    "        result.append({\"word\": word, \"count\": len(word)})\n",
    "print(result)"
   ]
  },
  {
   "cell_type": "code",
   "execution_count": 28,
   "metadata": {},
   "outputs": [
    {
     "name": "stdout",
     "output_type": "stream",
     "text": [
      "[{'word': 'jumped', 'count': 6}, {'word': 'over', 'count': 4}, {'word': 'lazy', 'count': 4}]\n"
     ]
    }
   ],
   "source": [
    "a = \"The quick brown box jumped over the lazy dog\"\n",
    "\n",
    "\n",
    "result = [{\"word\": word, \"count\": len(word)} for word in a.split() if len(word) % 2 == 0]\n",
    "print(result)"
   ]
  },
  {
   "cell_type": "code",
   "execution_count": 39,
   "metadata": {},
   "outputs": [
    {
     "name": "stdout",
     "output_type": "stream",
     "text": [
      "hello hellolllo\n"
     ]
    }
   ],
   "source": [
    "class Test:\n",
    "    \n",
    "    def __init__(self, name):\n",
    "        self.name_ = name\n",
    "    \n",
    "    name_ = \"asass\"\n",
    "    def print_1(self):\n",
    "        print(\"hello\", self.name_)\n",
    "    \n",
    "\n",
    "test = Test(\"hellolllo\")\n",
    "test.print_1()"
   ]
  },
  {
   "cell_type": "code",
   "execution_count": 41,
   "metadata": {},
   "outputs": [
    {
     "name": "stdout",
     "output_type": "stream",
     "text": [
      "{'a': 1, 'b': 2}\n"
     ]
    }
   ],
   "source": [
    "import json\n",
    "a= '{\"a\":1, \"b\":2}'\n",
    "print(json.loads(a))"
   ]
  },
  {
   "cell_type": "code",
   "execution_count": 42,
   "metadata": {},
   "outputs": [
    {
     "data": {
      "text/plain": [
       "6"
      ]
     },
     "execution_count": 42,
     "metadata": {},
     "output_type": "execute_result"
    }
   ],
   "source": [
    "a = lambda x: x * 2\n",
    "a(3)"
   ]
  }
 ],
 "metadata": {
  "kernelspec": {
   "display_name": "Python 3",
   "language": "python",
   "name": "python3"
  },
  "language_info": {
   "codemirror_mode": {
    "name": "ipython",
    "version": 3
   },
   "file_extension": ".py",
   "mimetype": "text/x-python",
   "name": "python",
   "nbconvert_exporter": "python",
   "pygments_lexer": "ipython3",
   "version": "3.5.2"
  }
 },
 "nbformat": 4,
 "nbformat_minor": 2
}
